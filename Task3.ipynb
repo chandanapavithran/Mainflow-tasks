{
 "cells": [
  {
   "cell_type": "code",
   "execution_count": 1,
   "id": "38d5f430-c4b7-47d4-9578-13bd8d64180d",
   "metadata": {},
   "outputs": [
    {
     "name": "stdout",
     "output_type": "stream",
     "text": [
      " 5 x 1 = _5\n",
      " 5 x 2 = _10\n",
      " 5 x 3 = _15\n",
      " 5 x 4 = _20\n",
      " 5 x 5 = _25\n",
      " 5 x 6 = _30\n",
      " 5 x 7 = _35\n",
      " 5 x 8 = _40\n",
      " 5 x 9 = _45\n",
      " 5 x 10 = _50\n"
     ]
    }
   ],
   "source": [
    "def print_table(m):\n",
    "    for i in range(1, 11):\n",
    "        print(f\" {m} x {i} = _{m * i}\")\n",
    "\n",
    "print_table(5)"
   ]
  },
  {
   "cell_type": "code",
   "execution_count": 5,
   "id": "591fd5e4-2ba4-4acf-ab79-5ee290fcfba3",
   "metadata": {},
   "outputs": [
    {
     "name": "stdout",
     "output_type": "stream",
     "text": [
      "Swapped: a = 9, b = 5\n"
     ]
    }
   ],
   "source": [
    "def swap_numbers(a, b):\n",
    "    a = a + b\n",
    "    b = a - b\n",
    "    a= a - b\n",
    "    return a, b\n",
    "\n",
    "a, b = 5, 9\n",
    "a, b = swap_numbers(a, b)\n",
    "print(f\"Swapped: a = {a}, b = {b}\")"
   ]
  },
  {
   "cell_type": "code",
   "execution_count": 80,
   "id": "202e9055-d705-44aa-9517-8e5816a5e46d",
   "metadata": {},
   "outputs": [
    {
     "name": "stdout",
     "output_type": "stream",
     "text": [
      "True\n"
     ]
    }
   ],
   "source": [
    "def is_substring(s1, s2):\n",
    "    return s2 in s1\n",
    "\n",
    "s1 = \"main flow technologies\"\n",
    "s2 = \"main\"\n",
    "print(is_substring(s1,s2))"
   ]
  },
  {
   "cell_type": "code",
   "execution_count": 19,
   "id": "26019164-fe3f-421c-9653-3f67a8829831",
   "metadata": {},
   "outputs": [
    {
     "name": "stdout",
     "output_type": "stream",
     "text": [
      "1010\n"
     ]
    }
   ],
   "source": [
    "def decimal_to_binary(n):\n",
    "    return bin(n) [2:]\n",
    "\n",
    "print(decimal_to_binary(10))"
   ]
  },
  {
   "cell_type": "code",
   "execution_count": 31,
   "id": "121fbe31-4cb5-4648-af58-ad0622b9a8e9",
   "metadata": {},
   "outputs": [
    {
     "name": "stdout",
     "output_type": "stream",
     "text": [
      "99\n"
     ]
    }
   ],
   "source": [
    "def second_largest(lst):\n",
    "    unique = list(set(lst))\n",
    "    unique.sort()\n",
    "    return unique[-2] if len(unique) >= 2 else None\n",
    "\n",
    "lst = [18, 40, 55, 100, 99]\n",
    "print(second_largest(lst))"
   ]
  },
  {
   "cell_type": "code",
   "execution_count": 35,
   "id": "bdc5cfa1-f9cd-4302-967a-ffd306f5fd78",
   "metadata": {},
   "outputs": [
    {
     "name": "stdout",
     "output_type": "stream",
     "text": [
      "True\n"
     ]
    }
   ],
   "source": [
    "def is_anagram(s1, s2):\n",
    "    return sorted(s1.lower()) == sorted(s2.lower())\n",
    "\n",
    "s1 = \"listen\"\n",
    "s2 = \"silent\"\n",
    "print(is_anagram(s1,s2))"
   ]
  },
  {
   "cell_type": "code",
   "execution_count": 5,
   "id": "e58514b1-bd83-430d-9cc3-b7149da008df",
   "metadata": {},
   "outputs": [
    {
     "name": "stdout",
     "output_type": "stream",
     "text": [
      "[[19, 22], [43, 50]]\n"
     ]
    }
   ],
   "source": [
    "def matrix_multiply(A, B):\n",
    "    return [\n",
    "       [\n",
    "            sum(A[i][k] * B[k][j] for k in range(len(B)))\n",
    "            for j in range(len(B[0]))\n",
    "       ]\n",
    "        for i in range(len(A))\n",
    "           ] \n",
    "          \n",
    "A = [[1, 2], [3, 4]]\n",
    "B = [[5, 6], [7, 8]]\n",
    "result = matrix_multiply(A,B)\n",
    "print(result)"
   ]
  },
  {
   "cell_type": "code",
   "execution_count": 7,
   "id": "9bfab38d-8e1d-4e4b-96da-c43dc1fad07f",
   "metadata": {},
   "outputs": [
    {
     "name": "stdout",
     "output_type": "stream",
     "text": [
      "[[6, 8], [10, 12]]\n"
     ]
    }
   ],
   "source": [
    "def matrix_add(A, B):\n",
    "    return [[A[i][j] + B[i][j] for j in range(len(A[0]))] for i in range(len(A))]\n",
    "\n",
    "A = [[1, 2], [3, 4]]\n",
    "B = [[5, 6], [7, 8]]\n",
    "\n",
    "result = matrix_add(A, B)\n",
    "print(result)"
   ]
  },
  {
   "cell_type": "code",
   "execution_count": 74,
   "id": "d7fbb28b-447e-4473-9669-e1a70294900c",
   "metadata": {},
   "outputs": [
    {
     "name": "stdout",
     "output_type": "stream",
     "text": [
      "  |   |  \n",
      "---------\n",
      "  |   |  \n",
      "---------\n",
      "  |   |  \n",
      "---------\n"
     ]
    },
    {
     "name": "stdin",
     "output_type": "stream",
     "text": [
      "Enter row and column (0-2):  2 0\n"
     ]
    },
    {
     "name": "stdout",
     "output_type": "stream",
     "text": [
      "  |   |  \n",
      "---------\n",
      "  |   |  \n",
      "---------\n",
      "X |   |  \n",
      "---------\n",
      "AI plays at (1, 1)\n",
      "  |   |  \n",
      "---------\n",
      "  | O |  \n",
      "---------\n",
      "X |   |  \n",
      "---------\n"
     ]
    },
    {
     "name": "stdin",
     "output_type": "stream",
     "text": [
      "Enter row and column (0-2):  2 1\n"
     ]
    },
    {
     "name": "stdout",
     "output_type": "stream",
     "text": [
      "  |   |  \n",
      "---------\n",
      "  | O |  \n",
      "---------\n",
      "X | X |  \n",
      "---------\n",
      "AI plays at (2, 2)\n",
      "  |   |  \n",
      "---------\n",
      "  | O |  \n",
      "---------\n",
      "X | X | O\n",
      "---------\n"
     ]
    },
    {
     "name": "stdin",
     "output_type": "stream",
     "text": [
      "Enter row and column (0-2):  0 0\n"
     ]
    },
    {
     "name": "stdout",
     "output_type": "stream",
     "text": [
      "X |   |  \n",
      "---------\n",
      "  | O |  \n",
      "---------\n",
      "X | X | O\n",
      "---------\n",
      "AI plays at (1, 0)\n",
      "X |   |  \n",
      "---------\n",
      "O | O |  \n",
      "---------\n",
      "X | X | O\n",
      "---------\n"
     ]
    },
    {
     "name": "stdin",
     "output_type": "stream",
     "text": [
      "Enter row and column (0-2):  1 2\n"
     ]
    },
    {
     "name": "stdout",
     "output_type": "stream",
     "text": [
      "X |   |  \n",
      "---------\n",
      "O | O | X\n",
      "---------\n",
      "X | X | O\n",
      "---------\n",
      "AI plays at (0, 1)\n",
      "X | O |  \n",
      "---------\n",
      "O | O | X\n",
      "---------\n",
      "X | X | O\n",
      "---------\n"
     ]
    },
    {
     "name": "stdin",
     "output_type": "stream",
     "text": [
      "Enter row and column (0-2):  0 2\n"
     ]
    },
    {
     "name": "stdout",
     "output_type": "stream",
     "text": [
      "X | O | X\n",
      "---------\n",
      "O | O | X\n",
      "---------\n",
      "X | X | O\n",
      "---------\n",
      "Draw!\n"
     ]
    }
   ],
   "source": [
    "def print_board(board):\n",
    "    for row in board:\n",
    "        print(\" | \".join(row))\n",
    "        print(\"-\" * 9)\n",
    "\n",
    "def check_winner(board):\n",
    "    # Check rows, columns, and diagonals\n",
    "    lines = [\n",
    "        [board[0][0], board[0][1], board[0][2]],\n",
    "        [board[1][0], board[1][1], board[1][2]],\n",
    "        [board[2][0], board[2][1], board[2][2]],\n",
    "        [board[0][0], board[1][0], board[2][0]],\n",
    "        [board[0][1], board[1][1], board[2][1]],\n",
    "        [board[0][2], board[1][2], board[2][2]],\n",
    "        [board[0][0], board[1][1], board[2][2]],\n",
    "        [board[0][2], board[1][1], board[2][0]],\n",
    "    ]\n",
    "    for line in lines:\n",
    "        if len(set(line)) == 1 and line[0] != \" \":\n",
    "            return line[0]\n",
    "    return None\n",
    "\n",
    "def minimax(board, depth, is_maximizing):\n",
    "    winner = check_winner(board)\n",
    "    if winner == \"X\":\n",
    "        return -10 + depth\n",
    "    elif winner == \"O\":\n",
    "        return 10 - depth\n",
    "    elif \" \" not in [cell for row in board for cell in row]:\n",
    "        return 0\n",
    "\n",
    "    if is_maximizing:\n",
    "        best_score = -float(\"inf\")\n",
    "        for i in range(3):\n",
    "            for j in range(3):\n",
    "                if board[i][j] == \" \":\n",
    "                    board[i][j] = \"O\"\n",
    "                    score = minimax(board, depth + 1, False)\n",
    "                    board[i][j] = \" \"\n",
    "                    best_score = max(score, best_score)\n",
    "        return best_score\n",
    "    else:\n",
    "        best_score = float(\"inf\")\n",
    "        for i in range(3):\n",
    "            for j in range(3):\n",
    "                if board[i][j] == \" \":\n",
    "                    board[i][j] = \"X\"\n",
    "                    score = minimax(board, depth + 1, True)\n",
    "                    board[i][j] = \" \"\n",
    "                    best_score = min(score, best_score)\n",
    "        return best_score\n",
    "\n",
    "def ai_move(board):\n",
    "    best_score = -float(\"inf\")\n",
    "    move = (-1, -1)\n",
    "    for i in range(3):\n",
    "        for j in range(3):\n",
    "            if board[i][j] == \" \":\n",
    "                board[i][j] = \"O\"\n",
    "                score = minimax(board, 0, False)\n",
    "                board[i][j] = \" \"\n",
    "                if score > best_score:\n",
    "                    best_score = score\n",
    "                    move = (i, j)\n",
    "    return move\n",
    "\n",
    "def play_game():\n",
    "    board = [[\" \" for _ in range(3)] for _ in range(3)]\n",
    "    current_player = \"X\"  # Human starts first\n",
    "    while True:\n",
    "        print_board(board)\n",
    "        if current_player == \"X\":\n",
    "            row, col = map(int, input(\"Enter row and column (0-2): \").split())\n",
    "        else:\n",
    "            row, col = ai_move(board)\n",
    "            print(f\"AI plays at ({row}, {col})\")\n",
    "        if board[row][col] == \" \":\n",
    "            board[row][col] = current_player\n",
    "            winner = check_winner(board)\n",
    "            if winner:\n",
    "                print_board(board)\n",
    "                print(f\"{winner} wins!\")\n",
    "                break\n",
    "            elif \" \" not in [cell for row in board for cell in row]:\n",
    "                print_board(board)\n",
    "                print(\"Draw!\")\n",
    "                break\n",
    "            current_player = \"O\" if current_player == \"X\" else \"X\"\n",
    "        else:\n",
    "            print(\"Invalid move!\")\n",
    "\n",
    "play_game()"
   ]
  },
  {
   "cell_type": "code",
   "execution_count": null,
   "id": "e88f5297-6308-4ed0-b5e9-5bfe7f04ad7b",
   "metadata": {},
   "outputs": [],
   "source": []
  }
 ],
 "metadata": {
  "kernelspec": {
   "display_name": "Python [conda env:base] *",
   "language": "python",
   "name": "conda-base-py"
  },
  "language_info": {
   "codemirror_mode": {
    "name": "ipython",
    "version": 3
   },
   "file_extension": ".py",
   "mimetype": "text/x-python",
   "name": "python",
   "nbconvert_exporter": "python",
   "pygments_lexer": "ipython3",
   "version": "3.12.7"
  }
 },
 "nbformat": 4,
 "nbformat_minor": 5
}
