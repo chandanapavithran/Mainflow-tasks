{
 "cells": [
  {
   "cell_type": "code",
   "execution_count": 1,
   "id": "b562542f-c44c-4086-a0d1-365e8b34760e",
   "metadata": {},
   "outputs": [
    {
     "name": "stdout",
     "output_type": "stream",
     "text": [
      "Duplicates in [1, 3, 5, 2, 5, 3]:\n",
      "[3, 5]\n"
     ]
    }
   ],
   "source": [
    "from collections import Counter\n",
    "\n",
    "def find_duplicates(lst):\n",
    "    count = Counter(lst)\n",
    "    return [item for item, freq in count.items() if freq > 1]\n",
    "\n",
    "print(\"Duplicates in [1, 3, 5, 2, 5, 3]:\")\n",
    "print (find_duplicates([1, 3, 5, 2, 5, 3]))"
   ]
  },
  {
   "cell_type": "code",
   "execution_count": 3,
   "id": "3bd2078e-74ba-46f5-b1eb-2edc8765a7c2",
   "metadata": {},
   "outputs": [
    {
     "name": "stdout",
     "output_type": "stream",
     "text": [
      "LIS of [10, 9, 2, 5, 3, 7, 101, 18]:\n",
      "4\n"
     ]
    }
   ],
   "source": [
    "def longest_increasing_subsequence(nums):\n",
    "    if not nums:\n",
    "        return 0\n",
    "    dp = [1] * len(nums)\n",
    "    for i in range(len(nums)):\n",
    "        for j in range(i):\n",
    "            if nums[i] > nums[j]:\n",
    "                dp[i] = max(dp[i], dp[j] + 1)\n",
    "    return max(dp)\n",
    "\n",
    "print(\"LIS of [10, 9, 2, 5, 3, 7, 101, 18]:\")\n",
    "print(longest_increasing_subsequence([10, 9, 2, 5, 3, 7, 101, 18]))"
   ]
  },
  {
   "cell_type": "code",
   "execution_count": 5,
   "id": "74e7148a-908a-4658-920a-2835339b14d1",
   "metadata": {},
   "outputs": [
    {
     "name": "stdout",
     "output_type": "stream",
     "text": [
      "Original:\n",
      "[6, 5, 3]\n",
      "[5, 6, 7]\n",
      "[2, 1, 4]\n",
      "\n",
      "Rotated 90° Clockwise:\n",
      "[2, 5, 6]\n",
      "[1, 6, 5]\n",
      "[4, 7, 3]\n"
     ]
    }
   ],
   "source": [
    "def rotate_matrix(matrix):\n",
    "    # Transpose the matrix\n",
    "    transposed = list(zip(*matrix))\n",
    "    # Reverse each row\n",
    "    rotated = [list(row)[::-1] for row in transposed]\n",
    "    return rotated\n",
    "\n",
    "# Example usage\n",
    "matrix = [\n",
    "   [6, 5, 3],\n",
    "   [5, 6, 7],\n",
    "   [2, 1, 4]\n",
    "]\n",
    "print(\"Original:\")\n",
    "for row in matrix:\n",
    "    print(row)\n",
    "\n",
    "print(\"\\nRotated 90° Clockwise:\")\n",
    "for row in rotate_matrix(matrix):\n",
    "    print(row)"
   ]
  },
  {
   "cell_type": "code",
   "execution_count": 7,
   "id": "72da8f51-104e-4d6a-a729-6bb7eef4396d",
   "metadata": {},
   "outputs": [
    {
     "name": "stdout",
     "output_type": "stream",
     "text": [
      "3 largest in [8, 2, 6, 1, 10, 4]:\n",
      "[10, 8, 6]\n"
     ]
    }
   ],
   "source": [
    "import heapq\n",
    "\n",
    "def k_largest_elements(lst, k):\n",
    "    return heapq.nlargest (k, lst)\n",
    "\n",
    "print(\"3 largest in [8, 2, 6, 1, 10, 4]:\")\n",
    "print(k_largest_elements([8, 2, 6, 1, 10, 4], 3))"
   ]
  },
  {
   "cell_type": "code",
   "execution_count": 9,
   "id": "47ff75a0-cfc7-42b2-8c43-4955cdf651dc",
   "metadata": {},
   "outputs": [
    {
     "name": "stdout",
     "output_type": "stream",
     "text": [
      "Permutations of 'abc':\n",
      "['abc', 'acb', 'bac', 'bca', 'cab', 'cba']\n"
     ]
    }
   ],
   "source": [
    "from itertools import permutations\n",
    "\n",
    "def get_permutations(s):\n",
    "    return [''.join(p) for p in permutations(s)]\n",
    "\n",
    "print(\"Permutations of 'abc':\")\n",
    "print(get_permutations(\"abc\"))"
   ]
  },
  {
   "cell_type": "code",
   "execution_count": 11,
   "id": "2bf88652-a135-4923-a477-00a7cfbafdcc",
   "metadata": {},
   "outputs": [
    {
     "name": "stdout",
     "output_type": "stream",
     "text": [
      "10th Fibonacci number:\n",
      "34\n"
     ]
    }
   ],
   "source": [
    "def fibonacci_dp(n):\n",
    "    if n <= 1:\n",
    "         return n\n",
    "    fib = [0] * (n + 1)\n",
    "    fib[1] = 1\n",
    "    for i in range(2, n + 1):\n",
    "        fib[i] = fib[i-1] + fib[i-2]\n",
    "    return fib[n]\n",
    "\n",
    "print(\"10th Fibonacci number:\")\n",
    "print(fibonacci_dp(9))"
   ]
  },
  {
   "cell_type": "code",
   "execution_count": 13,
   "id": "8d7fa38b-efb4-483c-a5af-2789975cb70d",
   "metadata": {},
   "outputs": [
    {
     "name": "stdout",
     "output_type": "stream",
     "text": [
      "Is the Sudoku board valid?\n",
      "True\n"
     ]
    }
   ],
   "source": [
    "def is_valid_sudoku(board):\n",
    "    def is_valid_group(group):\n",
    "        nums = [x for x in group if x != \".\"]\n",
    "        return len(nums) == len(set(nums))\n",
    "    \n",
    "    for i in range(9):\n",
    "        if not is_valid_group(board[i]): # Row\n",
    "            return False\n",
    "        if not is_valid_group([board[j][i] for j in range(9)]): # Column\n",
    "            return False\n",
    "\n",
    "    for r in range(0, 9, 3):\n",
    "        for c in range(0, 9, 3):\n",
    "            block = [board[i][j] for i in range(r, r+3) for j in range(c, c+3)]\n",
    "            if not is_valid_group(block):\n",
    "                return False\n",
    "\n",
    "    return True\n",
    "\n",
    "# Example usage\n",
    "sudoku_board = [\n",
    "    [\"5\", \"3\", \".\", \".\", \"7\", \".\", \".\", \".\", \".\"], \n",
    "    [\"6\", \".\", \".\", \"1\", \"9\", \"5\", \".\", \".\", \".\"], \n",
    "    [\".\", \"9\", \"8\", \".\", \".\", \".\", \".\", \"6\", \".\"], \n",
    "    [\"8\", \".\", \".\", \".\", \"6\", \".\", \".\", \".\", \"3\"], \n",
    "    [\"4\", \".\", \".\", \"8\", \".\", \"3\", \".\", \".\", \"1\"],\n",
    "    [\"7\", \".\", \".\", \".\", \"2\", \".\", \".\", \".\", \"6\"], \n",
    "    [\".\", \"6\", \".\", \".\", \".\", \".\", \"2\", \"8\", \".\"],\n",
    "    [\".\", \".\", \".\", \"4\", \"1\", \"9\", \".\", \".\", \"5\"], \n",
    "    [\".\", \".\", \".\", \".\", \"8\", \".\", \".\", \"7\", \"9\"]\n",
    "]\n",
    "print(\"Is the Sudoku board valid?\")\n",
    "print(is_valid_sudoku(sudoku_board))"
   ]
  },
  {
   "cell_type": "code",
   "execution_count": null,
   "id": "604620a1-eef0-431a-92e8-215bedd63064",
   "metadata": {},
   "outputs": [
    {
     "name": "stdout",
     "output_type": "stream",
     "text": [
      "\n",
      " VIRTUAL STOCK MARKET STIMULATOR\n",
      "1. View Stock Prices\n",
      "2. Buy Stock\n",
      "3. Sell stock\n",
      "4. View portfolio\n",
      "5. View Transaction history\n",
      "6. Exit\n"
     ]
    }
   ],
   "source": [
    "import random\n",
    "\n",
    "class Stock:\n",
    "    def __init__(self, name, price):\n",
    "        self.name = name\n",
    "        self.price = price\n",
    "      \n",
    "    def simulate_price_change(self):\n",
    "        change_percent = random.uniform(-0.05, 0.05)\n",
    "        self.price += self.price * change_percent\n",
    "        self.price = round(self.price, 2)\n",
    "\n",
    "class User:\n",
    "    def __init__(self, name, balance = 10000):\n",
    "        self.name = name\n",
    "        self.balance = balance\n",
    "        self.portfolio = {}\n",
    "        self.transaction_history = []\n",
    "\n",
    "    def buy_stock(self, stock, quantity):\n",
    "        cost = stock_price * quantity\n",
    "        if self.balance >= cost:\n",
    "            self.balance -= cost\n",
    "            self.portfolio[stock.name] = self.portfolio.get(stock.name, 0) + quantity\n",
    "            self.transaction_history.append(f\"Bought {quantity} shares of {stock.name} at ${stock.price}\")\n",
    "            print(\"purchase successful\")\n",
    "        else:\n",
    "            print(\"not enough balance\")\n",
    "\n",
    "    def sell_stock(self, stock, quantity):\n",
    "        if self.portfolio.get(stock.name, 0) >= quantity:\n",
    "            self.portfolio[stock_name] -= quantity\n",
    "            self.balance += stock.price * quantity\n",
    "            self.transaction_history.append(f\"sold {quantity} shares of {stock.name} at ${stock.price}\") \n",
    "            print(\"sale successful\")\n",
    "        else:\n",
    "            print(\"not enough shares to sell\")\n",
    "\n",
    "    def virtual_portfolio(self):\n",
    "        print(f\"\\n {self.name}'s portfolio:\")\n",
    "        for stock, qty in self.portfolio.items():\n",
    "            if qty > 0:\n",
    "                print(f\" - {stock}: {qty} shares\")\n",
    "        print(f\" Balance: ${self.balance:.2f}\\n\")\n",
    "\n",
    "    def virtual_transaction_history(self):\n",
    "        print(\"\\n transaction History:\")\n",
    "        for t in self.transaction_history:\n",
    "            print(\" -\", t)\n",
    "            print()\n",
    "\n",
    "#stock market setup\n",
    "stocks = [\n",
    "    Stock(\"TCS\", 3200),\n",
    "    Stock(\"INFY\", 1450),\n",
    "    Stock(\"HDFC\", 2800),\n",
    "    Stock(\"RELIANCE\", 2500),\n",
    " ]\n",
    "\n",
    "user = User(name=\"Demouser\")\n",
    "\n",
    "def main():\n",
    "    while True:\n",
    "        print(\"\\n VIRTUAL STOCK MARKET STIMULATOR\")\n",
    "        print(\"1. View Stock Prices\")\n",
    "        print(\"2. Buy Stock\")\n",
    "        print(\"3. Sell stock\")\n",
    "        print(\"4. View portfolio\")\n",
    "        print(\"5. View Transaction history\")\n",
    "        print(\"6. Exit\")\n",
    "\n",
    "        choice = input(\"Enter your choice:\")\n",
    "    \n",
    "        for s in stocks:\n",
    "            s.simulate_price_change()\n",
    "            \n",
    "        if choice == '1':\n",
    "            print(\"\\n Available stocks:\")\n",
    "            for i, stock in enumerate(stocks):\n",
    "                print(f\"{i+1}. {stock.name} - ${stock.price}\")\n",
    "        elif choice == '2':\n",
    "            for i, stock in enumerate(stocks):\n",
    "                print(f\"{i+1}. {stock.name} - ${stock.price}\")\n",
    "            index = int(input(\"Enter stock number to buy:\")) - 1\n",
    "            qty = int(input(\"Enter quantity:\"))\n",
    "            user.buy_stock(stocks[index], qty)\n",
    "        elif choice == '3':\n",
    "            for i, stock in enumerate(stocks):\n",
    "                print(f\"{i+1}. {stock.name} - ${stock.price}\")\n",
    "            index = int(input(\"Enter stock number to buy:\")) - 1\n",
    "            qty = int(input(\"Enter quantity:\"))\n",
    "            user.buy_stock(stocks[index], qty)\n",
    "        elif choice == '4':\n",
    "            user.view_portfolio()\n",
    "        elif choice == '5':\n",
    "            user.view_transaction_history()\n",
    "        elif choice == '6':\n",
    "            print(\" Exiting the simulator.\")\n",
    "            break\n",
    "        else:\n",
    "            print(\"Invalid choice\")\n",
    "\n",
    "main()\n"
   ]
  },
  {
   "cell_type": "code",
   "execution_count": null,
   "id": "354b9798-2544-4b38-8e91-4aa98b63dfb7",
   "metadata": {},
   "outputs": [],
   "source": []
  }
 ],
 "metadata": {
  "kernelspec": {
   "display_name": "Python [conda env:base] *",
   "language": "python",
   "name": "conda-base-py"
  },
  "language_info": {
   "codemirror_mode": {
    "name": "ipython",
    "version": 3
   },
   "file_extension": ".py",
   "mimetype": "text/x-python",
   "name": "python",
   "nbconvert_exporter": "python",
   "pygments_lexer": "ipython3",
   "version": "3.12.7"
  }
 },
 "nbformat": 4,
 "nbformat_minor": 5
}
