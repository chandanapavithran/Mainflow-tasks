{
 "cells": [
  {
   "cell_type": "code",
   "execution_count": 24,
   "id": "7b8aa72d-1801-4b0a-8b24-078d14135ac0",
   "metadata": {},
   "outputs": [
    {
     "name": "stdout",
     "output_type": "stream",
     "text": [
      "3\n"
     ]
    }
   ],
   "source": [
    "def find_missing_number(arr):\n",
    "    n = len(arr) + 1\n",
    "    total = n * (n + 1) // 2\n",
    "    return total - sum(arr)\n",
    "\n",
    "\n",
    "print(find_missing_number([1, 2, 4]))"
   ]
  },
  {
   "cell_type": "code",
   "execution_count": 26,
   "id": "e0dfb4fa-3015-42f7-a91f-8e0b3b514ee5",
   "metadata": {},
   "outputs": [
    {
     "name": "stdout",
     "output_type": "stream",
     "text": [
      "True\n"
     ]
    }
   ],
   "source": [
    "def is_balanced(s):\n",
    "    stack = []\n",
    "    mapping = {')': '(', '}': '{', ']': '['}\n",
    "    for char in s:\n",
    "        if char in mapping.values():\n",
    "           stack.append(char)\n",
    "        elif char in mapping.keys():\n",
    "             if not stack or stack.pop() != mapping[char]:\n",
    "                 return False\n",
    "    return not stack\n",
    "\n",
    "print(is_balanced(\"([{}])\"))"
   ]
  },
  {
   "cell_type": "code",
   "execution_count": 36,
   "id": "96db796b-5e51-40ef-a54f-8dfe85df6f6c",
   "metadata": {},
   "outputs": [
    {
     "name": "stdout",
     "output_type": "stream",
     "text": [
      "[4, 5, 7, 9]\n"
     ]
    }
   ],
   "source": [
    "def bubble_sort(arr):\n",
    "    n = len(arr)\n",
    "    for i in range(n):\n",
    "        swapped = False\n",
    "        for j in range(n - i - 1):\n",
    "            if arr[j] > arr[j + 1]:\n",
    "                arr[j], arr[j + 1] = arr[j + 1], arr[j]\n",
    "                swapped = True\n",
    "        if not swapped:\n",
    "            break\n",
    "    return arr\n",
    "print(bubble_sort([7, 9, 5, 4]))    "
   ]
  },
  {
   "cell_type": "code",
   "execution_count": 40,
   "id": "208920f5-b1a9-4248-9245-e63b6c122b5f",
   "metadata": {},
   "outputs": [
    {
     "name": "stdout",
     "output_type": "stream",
     "text": [
      "True\n"
     ]
    }
   ],
   "source": [
    "def is_pythagorean_triplet(a, b, c):\n",
    "    max_num = max(a, b, c)\n",
    "    if max_num == a:\n",
    "        return a**2 == b**2 + c**2\n",
    "    elif max_num == b:\n",
    "        return b**2 == a**2 + c**2\n",
    "    else:\n",
    "        return c**2 == a**2 + b**2\n",
    "\n",
    "print(is_pythagorean_triplet(3, 4, 5))"
   ]
  },
  {
   "cell_type": "code",
   "execution_count": 44,
   "id": "d362c2ef-98bb-477a-9576-5ebf7c23bbae",
   "metadata": {},
   "outputs": [
    {
     "name": "stdout",
     "output_type": "stream",
     "text": [
      "2\n"
     ]
    }
   ],
   "source": [
    "def binary_search(arr, target):\n",
    "    low, high = 0, len(arr) - 1\n",
    "    while low <= high:\n",
    "        mid = (low + high) // 2\n",
    "        if arr[mid] == target:\n",
    "            return mid\n",
    "        elif arr[mid] < target:\n",
    "            low = mid + 1\n",
    "        else:\n",
    "            high = mid - 1\n",
    "    return -1\n",
    "\n",
    "print(binary_search([6, 8, 12, 60], 12))"
   ]
  },
  {
   "cell_type": "code",
   "execution_count": 48,
   "id": "e3ee4645-1f4e-4265-8afe-2569123685bc",
   "metadata": {},
   "outputs": [
    {
     "name": "stdout",
     "output_type": "stream",
     "text": [
      "programming\n"
     ]
    }
   ],
   "source": [
    "def longest_word(sentence):\n",
    "    words = sentence.split()\n",
    "    return max(words, key=len) if words else \"\"\n",
    "\n",
    "print(longest_word(\"Python programming\"))"
   ]
  },
  {
   "cell_type": "code",
   "execution_count": 50,
   "id": "dfe43bb9-610e-4904-8973-5150d53b8554",
   "metadata": {},
   "outputs": [
    {
     "name": "stdout",
     "output_type": "stream",
     "text": [
      "5\n"
     ]
    }
   ],
   "source": [
    "def count_words(sentence):\n",
    "    return len(sentence.split())\n",
    "\n",
    "print(count_words(\"This is a test sentence.\"))"
   ]
  },
  {
   "cell_type": "code",
   "execution_count": 52,
   "id": "7e0fc1cf-5fa8-4b80-b250-e07cd1002c52",
   "metadata": {},
   "outputs": [
    {
     "name": "stdout",
     "output_type": "stream",
     "text": [
      "(1, 3)\n"
     ]
    }
   ],
   "source": [
    "def find_subarray_with_sum(arr, s):\n",
    "    start = 0\n",
    "    current_sum = 0\n",
    "    for end in range(len(arr)):\n",
    "        current_sum += arr[end]\n",
    "        while current_sum > s and start <= end:\n",
    "            current_sum -= arr[start]\n",
    "            start += 1\n",
    "        if current_sum == s:\n",
    "            return(start, end)\n",
    "    return -1\n",
    "print(find_subarray_with_sum([1, 2, 3, 4, 5, 6], 9))\n",
    "            "
   ]
  },
  {
   "cell_type": "code",
   "execution_count": 9,
   "id": "d6e57e83-462d-41ec-b243-21909123b710",
   "metadata": {},
   "outputs": [
    {
     "name": "stdout",
     "output_type": "stream",
     "text": [
      "Most Frequent IP: ('192.168.1.1', 3)\n",
      "Most common status: (' 200', 4)\n",
      "Most Visited URL: ('/home', 3)\n"
     ]
    }
   ],
   "source": [
    "from collections import defaultdict\n",
    "import re\n",
    "\n",
    "log_lines = [\n",
    "    '192.168.1.1 - - [10/May/2023:13:55:36 +0000] \"GET /home HTTP/1.1\" 200 1234',\n",
    "    '192.168.1.2 - - [10/May/2023:13:55:40 +0000] \"GET /about HTTP/1.1\" 404 5678',\n",
    "    '192.168.1.1 - - [10/May/2023:13:55:45 +0000] \"GET /contact HTTP/1.1\" 200 9101',\n",
    "    '192.168.1.3 - - [10/May/2023:13:55:36 +0000] \"GET /home HTTP/1.1\" 200 1122',\n",
    "    '192.168.1.1 - - [10/May/2023:13:55:36 +0000] \"GET /home HTTP/1.1\" 200 3344',\n",
    "]\n",
    "ip_counts = defaultdict(int)\n",
    "status_counts = defaultdict(int)\n",
    "url_counts = defaultdict(int)\n",
    "\n",
    "for line in log_lines:\n",
    "    ip = re.match(r'^(\\S+)',line).group(1)\n",
    "    status = re.search(r'\" \\d{3} ', line).group().strip()[1:]\n",
    "    url = re.search(r'\"(GET|POST) (.+?) HTTP',line).group(2)\n",
    "\n",
    "    ip_counts[ip] +=1\n",
    "    status_counts[status] +=1\n",
    "    url_counts[url] +=1\n",
    "\n",
    "print(\"Most Frequent IP:\",max(ip_counts.items(), key=lambda x: x[1]))\n",
    "print(\"Most common status:\",max(status_counts.items(), key=lambda x: x[1]))\n",
    "print(\"Most Visited URL:\",max(url_counts.items(), key=lambda x: x[1]))"
   ]
  },
  {
   "cell_type": "code",
   "execution_count": null,
   "id": "385c8ec2-7dbc-43ed-98bd-68f6da23c9c2",
   "metadata": {},
   "outputs": [],
   "source": []
  }
 ],
 "metadata": {
  "kernelspec": {
   "display_name": "Python [conda env:base] *",
   "language": "python",
   "name": "conda-base-py"
  },
  "language_info": {
   "codemirror_mode": {
    "name": "ipython",
    "version": 3
   },
   "file_extension": ".py",
   "mimetype": "text/x-python",
   "name": "python",
   "nbconvert_exporter": "python",
   "pygments_lexer": "ipython3",
   "version": "3.12.7"
  }
 },
 "nbformat": 4,
 "nbformat_minor": 5
}
