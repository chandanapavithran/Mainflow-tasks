{
 "cells": [
  {
   "cell_type": "code",
   "execution_count": 5,
   "id": "3f2af42c-9ff6-49e5-9721-e6704db252cb",
   "metadata": {},
   "outputs": [
    {
     "name": "stdout",
     "output_type": "stream",
     "text": [
      "The Sum of 5 and 10 is 15.\n"
     ]
    }
   ],
   "source": [
    "# Task1:Sum of Two Numbers\n",
    "def sum_of_two_numbers(a, b):\n",
    "    return a + b\n",
    "\n",
    "# Example\n",
    "a, b =5, 10\n",
    "print(f\"The Sum of {a} and {b} is {sum_of_two_numbers(a, b)}.\")\n",
    "\n"
   ]
  },
  {
   "cell_type": "code",
   "execution_count": 25,
   "id": "098ed828-e6b4-4038-a34d-1127dede861e",
   "metadata": {},
   "outputs": [
    {
     "name": "stdout",
     "output_type": "stream",
     "text": [
      "The number 7 is odd.\n"
     ]
    }
   ],
   "source": [
    "# Task2:odd or even\n",
    "def odd_or_even(number):\n",
    "    return \"EVEN\" if number % 2==0 else \"odd\"\n",
    "#example\n",
    "num = 7\n",
    "print(f\"The number {num} is {odd_or_even(num)}.\")"
   ]
  },
  {
   "cell_type": "code",
   "execution_count": 3,
   "id": "51b3230c-6358-418e-8baa-0e6100e8d000",
   "metadata": {},
   "outputs": [
    {
     "name": "stdout",
     "output_type": "stream",
     "text": [
      "The factorial of 5 is 120.\n"
     ]
    }
   ],
   "source": [
    "# Task 3:Factorial calculation\n",
    "def factorial(n):\n",
    "    result=1\n",
    "    for i in range (1, n+1):\n",
    "        result *=i\n",
    "    return result\n",
    "#Example\n",
    "n = 5\n",
    "print(f\"The factorial of {n} is {factorial(n)}.\")\n",
    "        "
   ]
  },
  {
   "cell_type": "code",
   "execution_count": 19,
   "id": "54afcf5a-408a-4a22-8fd6-ff0e52fd2c67",
   "metadata": {},
   "outputs": [
    {
     "name": "stdout",
     "output_type": "stream",
     "text": [
      "The first 10 Fibonacci numbers are: [0, 1, 1, 2, 3, 5, 8, 13, 21, 34].\n"
     ]
    }
   ],
   "source": [
    "# Task 4: Fibonacci Sequence \n",
    "def fibonacci_sequence(n):\n",
    "    sequence = [0, 1]\n",
    "    for i in range(2, n):\n",
    "        sequence.append(sequence[-1] + sequence[-2])\n",
    "    return sequence[:n]\n",
    "# Example\n",
    "n = 10\n",
    "print(f\"The first {n} Fibonacci numbers are: {fibonacci_sequence(n)}.\")\n"
   ]
  },
  {
   "cell_type": "code",
   "execution_count": 23,
   "id": "0842305b-77fd-447b-ac9e-2d9b0f0f9bbb",
   "metadata": {},
   "outputs": [
    {
     "name": "stdout",
     "output_type": "stream",
     "text": [
      "The reverse of 'hello' is 'olleh'.\n"
     ]
    }
   ],
   "source": [
    "# Task 5: Reverse a string\n",
    "def reverse_string(s):\n",
    "    return s[::-1]\n",
    "#Example \n",
    "string =\"hello\"\n",
    "print(f\"The reverse of '{string}' is '{reverse_string(string)}'.\")\n",
    "\n"
   ]
  },
  {
   "cell_type": "code",
   "execution_count": 27,
   "id": "f2528ea4-bcff-4193-8d7e-4ac93bc03b1f",
   "metadata": {},
   "outputs": [
    {
     "name": "stdout",
     "output_type": "stream",
     "text": [
      "Is 'radar' a palindrome? True.\n"
     ]
    }
   ],
   "source": [
    "# Task 6:Palindrome Check\n",
    "def is_palindrome(s):\n",
    "    return s == s[::-1]\n",
    "#Example\n",
    "string = \"radar\"\n",
    "print(f\"Is '{string}' a palindrome? {is_palindrome(string)}.\")"
   ]
  },
  {
   "cell_type": "code",
   "execution_count": 29,
   "id": "ca775c76-4d72-47d0-a9f7-8b07dbec5b7d",
   "metadata": {},
   "outputs": [
    {
     "name": "stdout",
     "output_type": "stream",
     "text": [
      "Is 2024 a leap year? True.\n"
     ]
    }
   ],
   "source": [
    "#task 7:Leap year check\n",
    "def is_leap_year(year):\n",
    "    return year % 4 == 0 and (year % 100 != 0 or year % 400 == 0)\n",
    "#Example\n",
    "year=2024\n",
    "print(f\"Is {year} a leap year? {is_leap_year(year)}.\")"
   ]
  },
  {
   "cell_type": "code",
   "execution_count": 31,
   "id": "148de910-b48f-4110-a19e-1c820ba227f7",
   "metadata": {},
   "outputs": [
    {
     "name": "stdout",
     "output_type": "stream",
     "text": [
      "Is 153 an Armstrong number? True.\n"
     ]
    }
   ],
   "source": [
    "# Task 8: Armstrong Number\n",
    "def is_armstrong_number(n):\n",
    "    digits = str(n)\n",
    "    return n == sum(int(d) ** len(digits) for d in digits)\n",
    "#example\n",
    "num = 153\n",
    "print(f\"Is {num} an Armstrong number? {is_armstrong_number(num)}.\")"
   ]
  },
  {
   "cell_type": "code",
   "execution_count": 1,
   "id": "a1b4e3b4-1265-4808-ad17-f5109cd57d5b",
   "metadata": {},
   "outputs": [
    {
     "name": "stdout",
     "output_type": "stream",
     "text": [
      "Original: Hello world!\n",
      "Encrypted: Khoor zruog!\n",
      "Decrypted: Hello world!\n"
     ]
    }
   ],
   "source": [
    "\n",
    "# Task 10: Custom Encryption and Decryption System\n",
    "def encrypt(text, shift):\n",
    "    encrypted_text = \"\"\n",
    "    for char in text:\n",
    "        if char.isalpha():\n",
    "            shift_base = 65 if char.isupper() else 97\n",
    "            encrypted_text += chr((ord(char) - shift_base + shift) % 26 + shift_base)\n",
    "        else:\n",
    "            encrypted_text += char\n",
    "    return encrypted_text\n",
    "\n",
    "def decrypt(encrypted_text, shift):\n",
    "    return encrypt(encrypted_text, -shift)\n",
    "\n",
    "# Example\n",
    "message = \"Hello world!\"\n",
    "shift_key = 3\n",
    "\n",
    "encrypted_message = encrypt(message, shift_key)\n",
    "decrypted_message = decrypt(encrypted_message, shift_key)\n",
    "\n",
    "print(f\"Original: {message}\")\n",
    "print(f\"Encrypted: {encrypted_message}\")\n",
    "print(f\"Decrypted: {decrypted_message}\")\n",
    "\n",
    "            \n"
   ]
  },
  {
   "cell_type": "code",
   "execution_count": null,
   "id": "8756c47f-1350-49b4-8a37-a10470d60dee",
   "metadata": {},
   "outputs": [],
   "source": []
  }
 ],
 "metadata": {
  "kernelspec": {
   "display_name": "Python [conda env:base] *",
   "language": "python",
   "name": "conda-base-py"
  },
  "language_info": {
   "codemirror_mode": {
    "name": "ipython",
    "version": 3
   },
   "file_extension": ".py",
   "mimetype": "text/x-python",
   "name": "python",
   "nbconvert_exporter": "python",
   "pygments_lexer": "ipython3",
   "version": "3.12.7"
  }
 },
 "nbformat": 4,
 "nbformat_minor": 5
}
